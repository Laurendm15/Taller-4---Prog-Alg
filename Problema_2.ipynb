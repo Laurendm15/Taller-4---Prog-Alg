{
  "nbformat": 4,
  "nbformat_minor": 0,
  "metadata": {
    "colab": {
      "provenance": [],
      "authorship_tag": "ABX9TyM6XDOgqSt3nIbW4isFc8RH",
      "include_colab_link": true
    },
    "kernelspec": {
      "name": "python3",
      "display_name": "Python 3"
    },
    "language_info": {
      "name": "python"
    }
  },
  "cells": [
    {
      "cell_type": "markdown",
      "metadata": {
        "id": "view-in-github",
        "colab_type": "text"
      },
      "source": [
        "<a href=\"https://colab.research.google.com/github/Laurendm15/Taller-4---Prog-Alg/blob/main/Problema_2.ipynb\" target=\"_parent\"><img src=\"https://colab.research.google.com/assets/colab-badge.svg\" alt=\"Open In Colab\"/></a>"
      ]
    },
    {
      "cell_type": "markdown",
      "source": [
        "ALGORITMO\n",
        "Algoritmo para calcular el promedio ponderado de notas.\n",
        "1. Iniciar\n",
        "2. Inicializar las variables: suma_calificaciones y la suma_pesos\n",
        "3. Definir las variables promedio_ponderado , calificación, peso.\n",
        "4. Pedir al usuario que ingrese la calificación y su peso.\n",
        "5. Sumar la calificación multiplicada por su peso a la suma_calificaciones.\n",
        "6. Sumar el peso a la suma de los pesos.\n",
        "7. Preguntar al usuario si desea ingresar otra calificación.\n",
        "8. Si suma_pesos es mayor que 0, entonces calcular promedio_ponderado dividiendo suma_calificaciones.\n",
        "10. Arrojar el promedio ponderado.\n",
        "11. Si no se ingresaron calificaciones válidas, mostrar el mensaje: \"No se ingresaron calificaciones validas\"\n",
        "12. Finalizar\n",
        "\n",
        "\n",
        "PSEUDOCÓDIGO\n",
        "Program_calculo_promedio_ponderado\n",
        "\n",
        "Start\n",
        "\n",
        "suma_calificaciones = 0\n",
        "suma_pesos = 0\n",
        "\n",
        "Display calificación\n",
        "Display peso\n",
        "suma_calificaciones = suma_calificaciones + (calificación * peso)\n",
        "suma_pesos = suma_pesos + peso\n",
        "Preguntar al usuario si desea agregar otra calificación\n",
        "\n",
        " Si suma_pesos > 0:\n",
        "    promedio_ponderado = suma_calificaciones / suma_pesos\n",
        "    Print promedio_ponderado\n",
        " Sino:\n",
        "    Print \"No se ingresaron calificaciones validas\"\n",
        "\n",
        "End\n"
      ],
      "metadata": {
        "id": "d9jq_vmxPxJZ"
      }
    },
    {
      "cell_type": "code",
      "execution_count": 1,
      "metadata": {
        "colab": {
          "base_uri": "https://localhost:8080/"
        },
        "id": "LooxpX10MetD",
        "outputId": "b6a6d40b-0867-49e8-9570-42315ae58b90"
      },
      "outputs": [
        {
          "output_type": "stream",
          "name": "stdout",
          "text": [
            "Ingrese la calificación: 4.0\n",
            "Ingrese el peso: 20\n",
            "¿Desea agregar otra calificación? (s/n): s\n",
            "Ingrese la calificación: 5.0\n",
            "Ingrese el peso: 10\n",
            "¿Desea agregar otra calificación? (s/n): s\n",
            "Ingrese la calificación: 4.6\n",
            "Ingrese el peso: 35\n",
            "¿Desea agregar otra calificación? (s/n): n\n",
            "El promedio ponderado es: 4.476923076923077\n"
          ]
        }
      ],
      "source": [
        "#Inicializamos las variables\n",
        "suma_calificaciones = 0\n",
        "suma_pesos = 0\n",
        "\n",
        "while True:\n",
        "  #Pedir calificación y peso\n",
        "  calificacion = float(input(\"Ingrese la calificación: \"))\n",
        "  peso = float(input(\"Ingrese el peso: \"))\n",
        "\n",
        "  #Sumar productos de calificaciones por sus pesos\n",
        "  suma_calificaciones += calificacion * peso\n",
        "  suma_pesos += peso\n",
        "\n",
        "  #Preguntar si desea agregar otra calificación\n",
        "  respuesta = input(\"¿Desea agregar otra calificación? (s/n): \")\n",
        "  if respuesta.lower() != \"s\":\n",
        "    break\n",
        "\n",
        "#Calcular el promedio ponderado\n",
        "if suma_pesos > 0:\n",
        "  promedio_ponderado = suma_calificaciones / suma_pesos\n",
        "  print(\"El promedio ponderado es:\", promedio_ponderado)\n",
        "else:\n",
        "  print(\"No se ingresaron calificaciones válidas.\")"
      ]
    }
  ]
}