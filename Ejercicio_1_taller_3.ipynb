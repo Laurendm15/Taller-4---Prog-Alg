{
  "nbformat": 4,
  "nbformat_minor": 0,
  "metadata": {
    "colab": {
      "provenance": [],
      "authorship_tag": "ABX9TyPgNXIQeQJoBU47bf9cxpU4",
      "include_colab_link": true
    },
    "kernelspec": {
      "name": "python3",
      "display_name": "Python 3"
    },
    "language_info": {
      "name": "python"
    }
  },
  "cells": [
    {
      "cell_type": "markdown",
      "metadata": {
        "id": "view-in-github",
        "colab_type": "text"
      },
      "source": [
        "<a href=\"https://colab.research.google.com/github/Laurendm15/Taller-4---Prog-Alg/blob/main/Ejercicio_1_taller_3.ipynb\" target=\"_parent\"><img src=\"https://colab.research.google.com/assets/colab-badge.svg\" alt=\"Open In Colab\"/></a>"
      ]
    },
    {
      "cell_type": "code",
      "execution_count": 1,
      "metadata": {
        "colab": {
          "base_uri": "https://localhost:8080/"
        },
        "id": "xTyYCTLSfzsm",
        "outputId": "c2691dcc-282c-4f18-93f3-443e72e809e9"
      },
      "outputs": [
        {
          "output_type": "stream",
          "name": "stdout",
          "text": [
            "Honorables conciudadanos, si me siguen venceré la inflación y protegeré la seguridad de la población.\n"
          ]
        }
      ],
      "source": [
        "import random\n",
        "def generar_discurso():\n",
        "# Programa para generar un discurso político rápidamente\n",
        "\n",
        "    titulos = [\"Queridos\", \"Apreciados\", \"Distinguidos\", \"Honorables\", \"Estimados\", \"Respetados\"]\n",
        "    publico_objetivo = [\"compatriotas\", \"copartidarios\", \"amigos\", \"coterráneos\", \"conciudadanos\", \"electores\"]\n",
        "    condiciones = [\"en mi gobierno\", \"con su apoyo\", \"siendo elegido\", \"con su ayuda\", \"si me siguen\", \"durante mi mandato\"]\n",
        "    compromisos = [\"voy a derrotar\", \"venceré\", \"eliminaré\", \"acabaré\", \"lucharé contra\", \"combatiré\"]\n",
        "    luchas = [\"la violencia y\", \"la delincuencia y\", \"la corrupción y\", \"la inflación y\", \"la pobreza y\", \"el desplazamiento y\"]\n",
        "    promesas = [\"trabajaré por\", \"garantizaré\", \"protegeré\", \"Velaré por\", \"Promoveré\", \"Defenderé\"]\n",
        "    beneficios = [\"la educación\", \"el empleo\", \"la seguridad\", \"la paz\", \"la igualdad\", \"la salud\"]\n",
        "    votos = [\"del país\", \"de la ciudad\", \"de la comunidad\", \"de la población\", \"para toda la gente\", \"de cada colombiano\"]\n",
        "\n",
        "# Selección aleatoria de las frases del discurso\n",
        "    titulo = random.choice(titulos)\n",
        "    audiencia = random.choice(publico_objetivo)\n",
        "    condicion = random.choice(condiciones)\n",
        "    compromiso = random.choice(compromisos)\n",
        "    ilusion = random.choice(luchas)\n",
        "    promesa = random.choice(promesas)\n",
        "    beneficio = random.choice(beneficios)\n",
        "    cantidad_votos = random.choice(votos)\n",
        "\n",
        "    # Create the discurso string\n",
        "    discurso = f\"{titulo} {audiencia}, {condicion} {compromiso} {ilusion} {promesa} {beneficio} {cantidad_votos}.\"\n",
        "    return discurso\n",
        "\n",
        "# Generar y mostrar el discurso\n",
        "discurso_politico = generar_discurso()\n",
        "print(discurso_politico)"
      ]
    },
    {
      "cell_type": "code",
      "source": [],
      "metadata": {
        "id": "B0S2Z_LNf4D2"
      },
      "execution_count": null,
      "outputs": []
    }
  ]
}